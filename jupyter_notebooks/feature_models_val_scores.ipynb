{
 "cells": [
  {
   "cell_type": "code",
   "execution_count": null,
   "metadata": {},
   "outputs": [],
   "source": [
    "import matplotlib.pyplot as plt\n",
    "import numpy as np\n",
    "\n",
    "knn_bac = [0.64, 0.71, 0.63, 0.63, 0.54]\n",
    "mlp_bac = [0.75, 0.73, 0.75, 0.65, 0.53]\n",
    "svm_bac = [0.74, 0.68, 0.70, 0.61, 0.55]\n",
    "rf_bac = [0.82, 0.69, 0.68, 0.60, 0.58]\n",
    "lgbm_bac = [0.85, 0.75, 0.72, 0.69, 0.65]\n",
    "\n",
    "knn_acc = [0.84, 0.85, 0.80, 0.75, 0.57]\n",
    "mlp_acc = [0.86, 0.83, 0.88, 0.75, 0.59]\n",
    "svm_acc = [0.86, 0.78, 0.80, 0.74, 0.60]\n",
    "rf_acc = [0.90, 0.78, 0.85, 0.75, 0.65]\n",
    "lgbm_acc = [0.90, 0.87, 0.87, 0.83, 0.70]\n",
    "\n",
    "# set width of bars\n",
    "barWidth = 0.15\n",
    " \n",
    "# Set position of bar on X axis\n",
    "r1 = np.arange(len(knn_bac))\n",
    "r2 = [x + barWidth for x in r1]\n",
    "r3 = [x + barWidth for x in r2]\n",
    "r4 = [x + barWidth for x in r3]\n",
    "r5 = [x + barWidth for x in r4]\n",
    "\n",
    "# Make the plot\n",
    "plt.figure(figsize=(15,7))\n",
    "plt.bar(r1, knn_bac, width=barWidth, label='k-NN')\n",
    "plt.bar(r2, mlp_bac, width=barWidth, label='MLP')\n",
    "plt.bar(r3, svm_bac, width=barWidth, label='SVM')\n",
    "plt.bar(r4, rf_bac, width=barWidth, label='RF')\n",
    "plt.bar(r5, lgbm_bac, width=barWidth, label='LGBM') \n",
    "\n",
    "# Add xticks on the middle of the group bars\n",
    "plt.ylabel('Balanced accuracy', size=18)\n",
    "plt.xticks([r + 2*barWidth for r in range(len(knn_bac))], [\"AbsFip\", \"OFip\", \"RelFip\", \"SFip\", \"Tsfresh\"], size=18)\n",
    "plt.yticks([0, 0.2, 0.4, 0.6, 0.8, 1], size=14) \n",
    "    \n",
    "# Create legend & Show graphic\n",
    "plt.legend(fontsize=16, bbox_to_anchor=(1.02, 0.7), loc='upper left')\n",
    "plt.tight_layout()\n",
    "plt.savefig(\"feature_val_bac.pdf\", dpi=300)\n",
    "plt.show()"
   ]
  },
  {
   "cell_type": "code",
   "execution_count": null,
   "metadata": {},
   "outputs": [],
   "source": [
    "# Make the plot\n",
    "plt.figure(figsize=(15,7))\n",
    "plt.bar(r1, knn_acc, width=barWidth, label='k-NN')\n",
    "plt.bar(r2, mlp_acc, width=barWidth, label='MLP')\n",
    "plt.bar(r3, svm_acc, width=barWidth, label='SVM')\n",
    "plt.bar(r4, rf_acc, width=barWidth, label='RF')\n",
    "plt.bar(r5, lgbm_acc, width=barWidth, label='LGBM') \n",
    "\n",
    "# Add xticks on the middle of the group bars\n",
    "plt.ylabel('Accuracy', size=18)\n",
    "plt.xticks([r + 2*barWidth for r in range(len(knn_bac))], [\"AbsFip\", \"OFip\", \"RelFip\", \"SFip\", \"Tsfresh\"], size=18)\n",
    "plt.yticks([0, 0.2, 0.4, 0.6, 0.8, 1], size=14) \n",
    "    \n",
    "# Create legend & Show graphic\n",
    "plt.legend(fontsize=16, bbox_to_anchor=(1.02, 0.7), loc='upper left')\n",
    "plt.tight_layout()\n",
    "plt.savefig(\"feature_val_acc.pdf\", dpi=300)\n",
    "plt.show()"
   ]
  },
  {
   "cell_type": "code",
   "execution_count": null,
   "metadata": {},
   "outputs": [],
   "source": []
  }
 ],
 "metadata": {
  "kernelspec": {
   "display_name": "Python 3",
   "language": "python",
   "name": "python3"
  },
  "language_info": {
   "codemirror_mode": {
    "name": "ipython",
    "version": 3
   },
   "file_extension": ".py",
   "mimetype": "text/x-python",
   "name": "python",
   "nbconvert_exporter": "python",
   "pygments_lexer": "ipython3",
   "version": "3.8.7"
  }
 },
 "nbformat": 4,
 "nbformat_minor": 4
}
